{
 "cells": [
  {
   "cell_type": "code",
   "execution_count": 9,
   "metadata": {
    "collapsed": false
   },
   "outputs": [
    {
     "data": {
      "text/plain": [
       "1"
      ]
     },
     "execution_count": 9,
     "metadata": {},
     "output_type": "execute_result"
    }
   ],
   "source": [
    "#Simulation Bernouilli\n",
    "\n",
    "import random as rd\n",
    "def bernouilli(p):\n",
    "    x=-1\n",
    "    a=rd.random()\n",
    "    if a<p: return 1\n",
    "    else: return 0\n",
    "bernouilli(1/2)\n",
    "\n",
    "##Faire 3 \"états\" du supporter : facile"
   ]
  },
  {
   "cell_type": "code",
   "execution_count": 16,
   "metadata": {
    "collapsed": false
   },
   "outputs": [
    {
     "data": {
      "text/plain": [
       "[1, 1, 1, 1, 1, 1, 1, 0, 1, 0]"
      ]
     },
     "execution_count": 16,
     "metadata": {},
     "output_type": "execute_result"
    }
   ],
   "source": [
    "#Simulations de 5 variables INDEPENDANTES \n",
    "\n",
    "def suite1(p,n): #n=nombre de variables sur une ligne = nombre de joueurs que l'on veut sur une rangée\n",
    "    l=[]\n",
    "    for i in range(n):\n",
    "        l.append(bernouilli(p))\n",
    "    return l\n",
    "suite1(1/2,10)"
   ]
  },
  {
   "cell_type": "code",
   "execution_count": 18,
   "metadata": {
    "collapsed": false
   },
   "outputs": [
    {
     "data": {
      "text/plain": [
       "([0.8,\n",
       "  0.7900138923488573,\n",
       "  0.7559193463481677,\n",
       "  0.7145133997564012,\n",
       "  0.6666039989350687,\n",
       "  0.6332354473570879,\n",
       "  0.5854949604723036,\n",
       "  0.5599645310877546,\n",
       "  0.5272181115653095,\n",
       "  0.48283832739729676],\n",
       " [0.8,\n",
       "  0.9875173654360716,\n",
       "  0.9568431057594187,\n",
       "  0.9452243856546364,\n",
       "  0.9329482122551289,\n",
       "  0.9499424671449787,\n",
       "  0.9246086316171386,\n",
       "  0.9563951338471738,\n",
       "  0.9415205469195812,\n",
       "  0.9158227246096511])"
      ]
     },
     "execution_count": 18,
     "metadata": {},
     "output_type": "execute_result"
    }
   ],
   "source": [
    "#Bernouilli conditionnelle\n",
    "\n",
    "def bernouilli_cond(p,n,epsilon): # i compris entre 1,n ----- epsilon petit, proche de 0\n",
    "    l=[]\n",
    "    l_numerateur=[]\n",
    "    l.append(p)\n",
    "    l_numerateur.append(p)\n",
    "    #Création de la liste des pi* (des \"numerateurs\" pour simplifier dans un second temps la création de la liste principale l des probas\n",
    "    for i in range(1,n):\n",
    "        l_numerateur.append(rd.uniform(l_numerateur[i-1]-epsilon,l_numerateur[i-1]))\n",
    "    #Création de la liste principale des probas que le supporter i se lève lors d'une ola\n",
    "    for k in range(1,n):\n",
    "        l.append(l_numerateur[k]/l_numerateur[k-1])\n",
    "    return l_numerateur,l\n",
    "bernouilli_cond(0.8,10,0.05)\n",
    "\n",
    "##Problème: pour n grand, les valeurs de l_numerateur deviennent négatives"
   ]
  },
  {
   "cell_type": "code",
   "execution_count": null,
   "metadata": {
    "collapsed": true
   },
   "outputs": [],
   "source": []
  }
 ],
 "metadata": {
  "kernelspec": {
   "display_name": "Python 3 (ENSAE)",
   "language": "python",
   "name": "python_3_ensae"
  },
  "language_info": {
   "codemirror_mode": {
    "name": "ipython",
    "version": 3
   },
   "file_extension": ".py",
   "mimetype": "text/x-python",
   "name": "python",
   "nbconvert_exporter": "python",
   "pygments_lexer": "ipython3",
   "version": "3.4.3"
  }
 },
 "nbformat": 4,
 "nbformat_minor": 0
}
